{
 "cells": [
  {
   "cell_type": "code",
   "execution_count": 1,
   "id": "78bac1f3",
   "metadata": {},
   "outputs": [],
   "source": [
    "from treinar import main"
   ]
  },
  {
   "cell_type": "code",
   "execution_count": 3,
   "id": "1ac3db33",
   "metadata": {},
   "outputs": [
    {
     "name": "stdout",
     "output_type": "stream",
     "text": [
      "Epoch: 0, MSE: 0.39064059711482363, Learning Rate: 0.25\n",
      "Epoch: 0, MSE: 0.41340127930064524, Learning Rate: 0.25\n",
      "Epoch: 0, MSE: 0.3758921174601475, Learning Rate: 0.25\n",
      "Epoch: 0, MSE: 0.4713482677820558, Learning Rate: 0.25\n",
      "Epoch: 1, MSE: 0.46775655496366564, Learning Rate: 0.225\n",
      "Epoch: 1, MSE: 0.3862700242208184, Learning Rate: 0.225\n",
      "Epoch: 0, MSE: 0.41599999999928683, Learning Rate: 0.25\n",
      "Epoch: 2, MSE: 0.43554913082535623, Learning Rate: 0.2\n",
      "Epoch: 1, MSE: 0.3776122773725172, Learning Rate: 0.225\n",
      "Epoch: 2, MSE: 0.4362687780256784, Learning Rate: 0.2\n",
      "Epoch: 3, MSE: 0.3887106139990181, Learning Rate: 0.175\n",
      "Epoch: 0, MSE: 0.3567884637062473, Learning Rate: 0.25\n",
      "Epoch: 1, MSE: 0.44613887758357007, Learning Rate: 0.225\n",
      "Epoch: 4, MSE: 0.3411792455592755, Learning Rate: 0.15\n",
      "Epoch: 2, MSE: 0.36632022044596024, Learning Rate: 0.2\n",
      "Epoch: 3, MSE: 0.4329739198598589, Learning Rate: 0.175\n",
      "Epoch: 5, MSE: 0.30643561142961706, Learning Rate: 0.125\n",
      "Epoch: 1, MSE: 0.41599999999928683, Learning Rate: 0.225\n",
      "Epoch: 4, MSE: 0.40875824717213693, Learning Rate: 0.15\n",
      "Epoch: 2, MSE: 0.4229793643260501, Learning Rate: 0.2\n",
      "Epoch: 6, MSE: 0.2691336359853844, Learning Rate: 0.1\n",
      "Epoch: 3, MSE: 0.3581651268310036, Learning Rate: 0.175\n",
      "Epoch: 7, MSE: 0.2504847540470138, Learning Rate: 0.07500000000000001\n",
      "Epoch: 5, MSE: 0.37459515896727413, Learning Rate: 0.125\n",
      "Epoch: 4, MSE: 0.3470838569615731, Learning Rate: 0.15\n",
      "Epoch: 1, MSE: 0.3569515038945717, Learning Rate: 0.225\n",
      "Epoch: 8, MSE: 0.2298819164752191, Learning Rate: 0.04999999999999999\n",
      "Epoch: 3, MSE: 0.419880827506351, Learning Rate: 0.175\n",
      "Epoch: 6, MSE: 0.3706135823742875, Learning Rate: 0.1\n",
      "Epoch: 9, MSE: 0.19257734200918056, Learning Rate: 0.024999999999999994\n",
      "Epoch: 10\n",
      "Training completed\n"
     ]
    },
    {
     "name": "stderr",
     "output_type": "stream",
     "text": [
      "/home/rafael-albuquerque/repos/ia-av2/evaluator.py:23: RuntimeWarning: invalid value encountered in scalar divide\n",
      "  precision = np.sum(true_positives) / (np.sum(true_positives) + np.sum(false_positives))\n"
     ]
    },
    {
     "name": "stdout",
     "output_type": "stream",
     "text": [
      "Epoch: 2, MSE: 0.41599999999928683, Learning Rate: 0.2\n",
      "Epoch: 7, MSE: 0.3378822520530229, Learning Rate: 0.07500000000000001\n",
      "Epoch: 5, MSE: 0.33593819494877875, Learning Rate: 0.125\n",
      "Epoch: 4, MSE: 0.4112517725393369, Learning Rate: 0.15\n",
      "Epoch: 8, MSE: 0.3205043935303221, Learning Rate: 0.04999999999999999\n",
      "Epoch: 2, MSE: 0.34956553675524543, Learning Rate: 0.2\n",
      "Epoch: 6, MSE: 0.3233905917086881, Learning Rate: 0.1\n",
      "Epoch: 3, MSE: 0.41599999999928683, Learning Rate: 0.175\n",
      "Epoch: 5, MSE: 0.38623364898513385, Learning Rate: 0.125\n",
      "Epoch: 9, MSE: 0.29844951734936914, Learning Rate: 0.024999999999999994\n",
      "Epoch: 10\n",
      "Training completed\n"
     ]
    },
    {
     "name": "stderr",
     "output_type": "stream",
     "text": [
      "/home/rafael-albuquerque/repos/ia-av2/evaluator.py:23: RuntimeWarning: invalid value encountered in scalar divide\n",
      "  precision = np.sum(true_positives) / (np.sum(true_positives) + np.sum(false_positives))\n"
     ]
    },
    {
     "name": "stdout",
     "output_type": "stream",
     "text": [
      "Epoch: 7, MSE: 0.30996451420528204, Learning Rate: 0.07500000000000001\n",
      "Epoch: 6, MSE: 0.3710509913299704, Learning Rate: 0.1\n",
      "Epoch: 4, MSE: 0.41599999999928683, Learning Rate: 0.15\n",
      "Epoch: 8, MSE: 0.29564906253298995, Learning Rate: 0.04999999999999999\n",
      "Epoch: 3, MSE: 0.3415971376538093, Learning Rate: 0.175\n",
      "Epoch: 7, MSE: 0.35071818106455577, Learning Rate: 0.07500000000000001\n",
      "Epoch: 9, MSE: 0.2804782660591787, Learning Rate: 0.024999999999999994\n",
      "Epoch: 10\n",
      "Training completed\n"
     ]
    },
    {
     "name": "stderr",
     "output_type": "stream",
     "text": [
      "/home/rafael-albuquerque/repos/ia-av2/evaluator.py:23: RuntimeWarning: invalid value encountered in scalar divide\n",
      "  precision = np.sum(true_positives) / (np.sum(true_positives) + np.sum(false_positives))\n"
     ]
    },
    {
     "name": "stdout",
     "output_type": "stream",
     "text": [
      "Epoch: 5, MSE: 0.41599999999928683, Learning Rate: 0.125\n",
      "Epoch: 8, MSE: 0.33124405035948634, Learning Rate: 0.04999999999999999\n",
      "Epoch: 4, MSE: 0.3330398728151131, Learning Rate: 0.15\n",
      "Epoch: 6, MSE: 0.41599999999928683, Learning Rate: 0.1\n",
      "Epoch: 9, MSE: 0.30499953506219546, Learning Rate: 0.024999999999999994\n",
      "Epoch: 10\n",
      "Training completed\n"
     ]
    },
    {
     "name": "stderr",
     "output_type": "stream",
     "text": [
      "/home/rafael-albuquerque/repos/ia-av2/evaluator.py:23: RuntimeWarning: invalid value encountered in scalar divide\n",
      "  precision = np.sum(true_positives) / (np.sum(true_positives) + np.sum(false_positives))\n"
     ]
    },
    {
     "name": "stdout",
     "output_type": "stream",
     "text": [
      "Epoch: 7, MSE: 0.41599999999928683, Learning Rate: 0.07500000000000001\n",
      "Epoch: 5, MSE: 0.32371654455770804, Learning Rate: 0.125\n",
      "Epoch: 8, MSE: 0.41599999999928683, Learning Rate: 0.04999999999999999\n",
      "Epoch: 6, MSE: 0.31350049759585485, Learning Rate: 0.1\n",
      "Epoch: 9, MSE: 0.41599999999928683, Learning Rate: 0.024999999999999994\n",
      "Epoch: 10\n",
      "Training completed\n"
     ]
    },
    {
     "name": "stderr",
     "output_type": "stream",
     "text": [
      "/home/rafael-albuquerque/repos/ia-av2/evaluator.py:23: RuntimeWarning: invalid value encountered in scalar divide\n",
      "  precision = np.sum(true_positives) / (np.sum(true_positives) + np.sum(false_positives))\n"
     ]
    },
    {
     "name": "stdout",
     "output_type": "stream",
     "text": [
      "Epoch: 7, MSE: 0.30235818841565354, Learning Rate: 0.07500000000000001\n",
      "Epoch: 8, MSE: 0.2902909054731169, Learning Rate: 0.04999999999999999\n",
      "Epoch: 9, MSE: 0.2772961515437916, Learning Rate: 0.024999999999999994\n",
      "Epoch: 10\n",
      "Training completed\n"
     ]
    },
    {
     "name": "stderr",
     "output_type": "stream",
     "text": [
      "/home/rafael-albuquerque/repos/ia-av2/evaluator.py:23: RuntimeWarning: invalid value encountered in scalar divide\n",
      "  precision = np.sum(true_positives) / (np.sum(true_positives) + np.sum(false_positives))\n"
     ]
    },
    {
     "name": "stdout",
     "output_type": "stream",
     "text": [
      "Exported hyperparameters to weights/mlp_Spiral3d_0_hyperparameters.json\n",
      "Exported results to weights/mlp_Spiral3d_0_results.json\n",
      "Exported weights to weights/mlp_Spiral3d_0_weights.json\n",
      "Model 0 trained with topology [4, 8, 16, 32, 16, 8, 4]\n",
      "Exported hyperparameters to weights/mlp_Spiral3d_1_hyperparameters.json\n",
      "Exported results to weights/mlp_Spiral3d_1_results.json\n",
      "Exported weights to weights/mlp_Spiral3d_1_weights.json\n",
      "Model 1 trained with topology [10, 10, 10]\n",
      "Exported hyperparameters to weights/mlp_Spiral3d_2_hyperparameters.json\n",
      "Exported results to weights/mlp_Spiral3d_2_results.json\n",
      "Exported weights to weights/mlp_Spiral3d_2_weights.json\n",
      "Model 2 trained with topology [10, 10, 10, 10, 10]\n",
      "Exported hyperparameters to weights/mlp_Spiral3d_3_hyperparameters.json\n",
      "Exported results to weights/mlp_Spiral3d_3_results.json\n",
      "Exported weights to weights/mlp_Spiral3d_3_weights.json\n",
      "Model 3 trained with topology [10, 10, 10, 10, 10, 10, 10, 10, 10, 10]\n",
      "Exported hyperparameters to weights/mlp_Spiral3d_4_hyperparameters.json\n",
      "Exported results to weights/mlp_Spiral3d_4_results.json\n",
      "Exported weights to weights/mlp_Spiral3d_4_weights.json\n",
      "Model 4 trained with topology [23, 23, 23, 23, 23, 23, 23, 23, 23, 23, 23, 23]\n",
      "Exported hyperparameters to weights/mlp_Spiral3d_5_hyperparameters.json\n",
      "Exported results to weights/mlp_Spiral3d_5_results.json\n",
      "Exported weights to weights/mlp_Spiral3d_5_weights.json\n",
      "Model 5 trained with topology [3, 3, 3, 3, 3, 3, 3, 3, 3, 3, 3, 3, 3, 3, 3, 3, 3, 3, 3, 3]\n"
     ]
    }
   ],
   "source": [
    "main()"
   ]
  }
 ],
 "metadata": {
  "kernelspec": {
   "display_name": "Python 3 (ipykernel)",
   "language": "python",
   "name": "python3"
  },
  "language_info": {
   "codemirror_mode": {
    "name": "ipython",
    "version": 3
   },
   "file_extension": ".py",
   "mimetype": "text/x-python",
   "name": "python",
   "nbconvert_exporter": "python",
   "pygments_lexer": "ipython3",
   "version": "3.12.6"
  }
 },
 "nbformat": 4,
 "nbformat_minor": 5
}
